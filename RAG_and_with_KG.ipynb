{
  "cells": [
    {
      "cell_type": "markdown",
      "id": "d67a4729-cd2f-47e7-a4f6-f84a5677414f",
      "metadata": {
        "id": "d67a4729-cd2f-47e7-a4f6-f84a5677414f"
      },
      "source": [
        "# Basic RAG\n",
        "Retrieval-augmented generation (RAG) is an AI framework that synergizes the capabilities of LLMs and information retrieval systems. It’s useful to answer questions or generate content leveraging external knowledge. There are two main steps in RAG: 1) retrieval: retrieve relevant information from a knowledge base with text embeddings stored in a vector store; 2) generation: insert the relevant information to the prompt for the LLM to generate information. In this file, we will build a basic example of RAG with four implementations:\n",
        "\n",
        "- RAG from scratch with Mistral\n",
        "- RAG with Mistral and LangChain\n",
        "- RAG with Mistral and LlamaIndex\n",
        "\n",
        "### Import needed packages\n",
        "The first step is to install the needed packages `mistralai` and `faiss-cpu` and import the needed packages:\n",
        "\n"
      ]
    },
    {
      "cell_type": "code",
      "execution_count": 7,
      "id": "b880d1ed-3db0-45a1-807e-1b47e9ce1320",
      "metadata": {
        "colab": {
          "base_uri": "https://localhost:8080/"
        },
        "id": "b880d1ed-3db0-45a1-807e-1b47e9ce1320",
        "outputId": "6e39c69a-cc84-42a6-91cf-1e49306a1ff7"
      },
      "outputs": [
        {
          "name": "stdout",
          "output_type": "stream",
          "text": [
            "Collecting faiss-cpu==1.7.4\n",
            "  Downloading faiss-cpu-1.7.4.tar.gz (57 kB)\n",
            "\u001b[2K     \u001b[90m━━━━━━━━━━━━━━━━━━━━━━━━━━━━━━━━━━━━━━━━\u001b[0m \u001b[32m57.4/57.4 kB\u001b[0m \u001b[31m1.6 MB/s\u001b[0m eta \u001b[36m0:00:00\u001b[0m\n",
            "\u001b[?25h  Installing build dependencies ... \u001b[?25ldone\n",
            "\u001b[?25h  Getting requirements to build wheel ... \u001b[?25ldone\n",
            "\u001b[?25h  Preparing metadata (pyproject.toml) ... \u001b[?25ldone\n",
            "\u001b[?25hRequirement already satisfied: mistralai in /Library/Frameworks/Python.framework/Versions/3.12/lib/python3.12/site-packages (0.4.0)\n",
            "Requirement already satisfied: httpx<0.26,>=0.25 in /Library/Frameworks/Python.framework/Versions/3.12/lib/python3.12/site-packages (from mistralai) (0.25.2)\n",
            "Requirement already satisfied: orjson<3.11,>=3.9.10 in /Library/Frameworks/Python.framework/Versions/3.12/lib/python3.12/site-packages (from mistralai) (3.10.3)\n",
            "Requirement already satisfied: pydantic<3.0.0,>=2.5.2 in /Library/Frameworks/Python.framework/Versions/3.12/lib/python3.12/site-packages (from mistralai) (2.7.3)\n",
            "Requirement already satisfied: anyio in /Library/Frameworks/Python.framework/Versions/3.12/lib/python3.12/site-packages (from httpx<0.26,>=0.25->mistralai) (4.4.0)\n",
            "Requirement already satisfied: certifi in /Library/Frameworks/Python.framework/Versions/3.12/lib/python3.12/site-packages (from httpx<0.26,>=0.25->mistralai) (2024.6.2)\n",
            "Requirement already satisfied: httpcore==1.* in /Library/Frameworks/Python.framework/Versions/3.12/lib/python3.12/site-packages (from httpx<0.26,>=0.25->mistralai) (1.0.5)\n",
            "Requirement already satisfied: idna in /Library/Frameworks/Python.framework/Versions/3.12/lib/python3.12/site-packages (from httpx<0.26,>=0.25->mistralai) (3.7)\n",
            "Requirement already satisfied: sniffio in /Library/Frameworks/Python.framework/Versions/3.12/lib/python3.12/site-packages (from httpx<0.26,>=0.25->mistralai) (1.3.1)\n",
            "Requirement already satisfied: h11<0.15,>=0.13 in /Library/Frameworks/Python.framework/Versions/3.12/lib/python3.12/site-packages (from httpcore==1.*->httpx<0.26,>=0.25->mistralai) (0.14.0)\n",
            "Requirement already satisfied: annotated-types>=0.4.0 in /Library/Frameworks/Python.framework/Versions/3.12/lib/python3.12/site-packages (from pydantic<3.0.0,>=2.5.2->mistralai) (0.7.0)\n",
            "Requirement already satisfied: pydantic-core==2.18.4 in /Library/Frameworks/Python.framework/Versions/3.12/lib/python3.12/site-packages (from pydantic<3.0.0,>=2.5.2->mistralai) (2.18.4)\n",
            "Requirement already satisfied: typing-extensions>=4.6.1 in /Library/Frameworks/Python.framework/Versions/3.12/lib/python3.12/site-packages (from pydantic<3.0.0,>=2.5.2->mistralai) (4.12.1)\n",
            "Building wheels for collected packages: faiss-cpu\n",
            "  Building wheel for faiss-cpu (pyproject.toml) ... \u001b[?25lerror\n",
            "  \u001b[1;31merror\u001b[0m: \u001b[1msubprocess-exited-with-error\u001b[0m\n",
            "  \n",
            "  \u001b[31m×\u001b[0m \u001b[32mBuilding wheel for faiss-cpu \u001b[0m\u001b[1;32m(\u001b[0m\u001b[32mpyproject.toml\u001b[0m\u001b[1;32m)\u001b[0m did not run successfully.\n",
            "  \u001b[31m│\u001b[0m exit code: \u001b[1;36m1\u001b[0m\n",
            "  \u001b[31m╰─>\u001b[0m \u001b[31m[8 lines of output]\u001b[0m\n",
            "  \u001b[31m   \u001b[0m running bdist_wheel\n",
            "  \u001b[31m   \u001b[0m running build\n",
            "  \u001b[31m   \u001b[0m running build_py\n",
            "  \u001b[31m   \u001b[0m running build_ext\n",
            "  \u001b[31m   \u001b[0m building 'faiss._swigfaiss' extension\n",
            "  \u001b[31m   \u001b[0m swigging faiss/faiss/python/swigfaiss.i to faiss/faiss/python/swigfaiss_wrap.cpp\n",
            "  \u001b[31m   \u001b[0m swig -python -c++ -Doverride= -I/usr/local/include -Ifaiss -doxygen -module swigfaiss -o faiss/faiss/python/swigfaiss_wrap.cpp faiss/faiss/python/swigfaiss.i\n",
            "  \u001b[31m   \u001b[0m error: command 'swig' failed: No such file or directory\n",
            "  \u001b[31m   \u001b[0m \u001b[31m[end of output]\u001b[0m\n",
            "  \n",
            "  \u001b[1;35mnote\u001b[0m: This error originates from a subprocess, and is likely not a problem with pip.\n",
            "\u001b[?25h\u001b[31m  ERROR: Failed building wheel for faiss-cpu\u001b[0m\u001b[31m\n",
            "\u001b[0mFailed to build faiss-cpu\n",
            "\u001b[31mERROR: Could not build wheels for faiss-cpu, which is required to install pyproject.toml-based projects\u001b[0m\u001b[31m\n",
            "\u001b[0m"
          ]
        }
      ],
      "source": [
        "! pip3 install faiss-cpu==1.7.4 mistralai"
      ]
    },
    {
      "cell_type": "code",
      "execution_count": 8,
      "id": "851612c3-ee93-42e3-a1fb-481f89c9410f",
      "metadata": {
        "colab": {
          "base_uri": "https://localhost:8080/"
        },
        "id": "851612c3-ee93-42e3-a1fb-481f89c9410f",
        "outputId": "1827bdea-8532-4ab7-9d96-8ddda2de7057"
      },
      "outputs": [],
      "source": [
        "from mistralai.client import MistralClient\n",
        "from mistralai.models.chat_completion import ChatMessage\n",
        "import requests\n",
        "import numpy as np\n",
        "import faiss\n",
        "import os\n",
        "from getpass import getpass\n",
        "\n",
        "api_key= getpass(\"MISTRAL_API_KEY\")\n",
        "client = MistralClient(api_key=api_key)"
      ]
    },
    {
      "cell_type": "code",
      "execution_count": 7,
      "id": "lebhzXUgrKS7",
      "metadata": {
        "colab": {
          "base_uri": "https://localhost:8080/"
        },
        "id": "lebhzXUgrKS7",
        "outputId": "e5709cd7-4dd4-4a1f-f143-2cf703358e0c"
      },
      "outputs": [
        {
          "name": "stdout",
          "output_type": "stream",
          "text": [
            "Collecting pymupdf\n",
            "  Downloading PyMuPDF-1.24.5-cp310-none-manylinux2014_x86_64.whl (3.5 MB)\n",
            "\u001b[2K     \u001b[90m━━━━━━━━━━━━━━━━━━━━━━━━━━━━━━━━━━━━━━━━\u001b[0m \u001b[32m3.5/3.5 MB\u001b[0m \u001b[31m13.0 MB/s\u001b[0m eta \u001b[36m0:00:00\u001b[0m\n",
            "\u001b[?25hCollecting PyMuPDFb==1.24.3 (from pymupdf)\n",
            "  Downloading PyMuPDFb-1.24.3-py3-none-manylinux2014_x86_64.manylinux_2_17_x86_64.whl (15.8 MB)\n",
            "\u001b[2K     \u001b[90m━━━━━━━━━━━━━━━━━━━━━━━━━━━━━━━━━━━━━━━━\u001b[0m \u001b[32m15.8/15.8 MB\u001b[0m \u001b[31m52.3 MB/s\u001b[0m eta \u001b[36m0:00:00\u001b[0m\n",
            "\u001b[?25hInstalling collected packages: PyMuPDFb, pymupdf\n",
            "Successfully installed PyMuPDFb-1.24.3 pymupdf-1.24.5\n",
            "Text has been written to /content/drive/My Drive/qdrant_policies/policies/Late-Payment-Policy_FM1.txt\n"
          ]
        }
      ],
      "source": [
        "!pip3 install pymupdf\n",
        "import fitz\n",
        "# Define the path to the PDF file\n",
        "pdf_path = '/content/drive/My Drive/qdrant_policies/policies/Late-Payment-Policy_FM1.pdf'\n",
        "\n",
        "# Define the path for the output text file\n",
        "txt_output_path = '/content/drive/My Drive/qdrant_policies/policies/Late-Payment-Policy_FM1.txt'\n",
        "\n",
        "def pdf_to_text(pdf_path, txt_output_path):\n",
        "    # Open the PDF file\n",
        "    doc = fitz.open(pdf_path)\n",
        "\n",
        "    # Initialize an empty string to hold the text\n",
        "    text = \"\"\n",
        "\n",
        "    # Iterate through each page\n",
        "    for page in doc:\n",
        "        # Extract text from the page\n",
        "        text += page.get_text()\n",
        "\n",
        "    # Write the extracted text to a text file\n",
        "    with open(txt_output_path, 'w') as file:\n",
        "        file.write(text)\n",
        "\n",
        "    print(f\"Text has been written to {txt_output_path}\")\n",
        "\n",
        "# Convert PDF to text and save to file\n",
        "pdf_to_text(pdf_path, txt_output_path)\n"
      ]
    },
    {
      "cell_type": "markdown",
      "id": "fe8609d5-9f27-4202-b0be-36db34412998",
      "metadata": {
        "id": "fe8609d5-9f27-4202-b0be-36db34412998"
      },
      "source": [
        "### Get data\n",
        "\n",
        "In this very simple example, we are getting data from the late payment policy."
      ]
    },
    {
      "cell_type": "code",
      "execution_count": 9,
      "id": "c4c01740-72b4-482c-b61e-e272a734f01f",
      "metadata": {
        "colab": {
          "base_uri": "https://localhost:8080/"
        },
        "collapsed": true,
        "id": "c4c01740-72b4-482c-b61e-e272a734f01f",
        "outputId": "4e92cfe8-eaea-4959-e18c-531eae366cd5"
      },
      "outputs": [
        {
          "name": "stdout",
          "output_type": "stream",
          "text": [
            " \n",
            "Late Payment Policy (FM1) \n",
            " \n",
            "1 \n",
            "July 2019 version \n",
            " \n",
            "The University of British Columbia  \n",
            "Board of Governors \n",
            " \n",
            " \n",
            "Policy No.: \n",
            "FM1 \n",
            "Long Title: \n",
            "Late Payment of Fees and Accounts \n",
            " \n",
            "Short Title:  \n",
            "Late Payment Policy \n",
            " \n",
            " \n",
            " \n",
            "1. General \n",
            " \n",
            "1.1 \n",
            "Where  fees,  fines,  or  other  indebtedness  to  the  University  remain  unpaid  despite  the \n",
            "University having taken reasonable steps to notify the individual concerned, the University \n",
            "may report the outstanding obligation to credit reporting agencies, commence legal action, \n",
            "or utilize any other remedies that may be available to it, whether the outstanding obligation \n",
            "is owed by a faculty member, staff member, student, or other individual. \n",
            " \n",
            "1.2 \n",
            "A late payment fee and interest may be charged. \n",
            " \n",
            "1.3 \n",
            "In cases where the outstanding obligation is owed by a student, the University will attempt to \n",
            "secure payment using internal processes prior to commencing any legal action. Provided that \n",
            "the  University  has  first  taken  reasonable  steps  to  notify  the  individual  concerned,  such \n",
            "internal  processes  may  include  refraining  from  making  additional  services  or  privileges \n",
            "available  to  the  student.  Without  limiting  the  generality  of  the  foregoing,  the  University, \n",
            "acting through Enrolment Services, may decline to: \n",
            " \n",
            "1.3.1 \n",
            "process an application for admission as a student; \n",
            " \n",
            "1.3.2 \n",
            "allow subsequent registration; or \n",
            " \n",
            "1.3.3 \n",
            "provide academic transcripts or otherwise make grade information available. \n",
            " \n",
            "1.4 \n",
            "Notwithstanding  anything  else  in  this  Policy,  individual  academic  departments  within  the \n",
            "University are not authorized to withhold grades from Enrolment Services for any reason. \n",
            " \n",
            "1.5 \n",
            "Where frees, fines, or other indebtedness to the University remain unpaid, the University may \n",
            "charge late fees or interest. \n",
            " \n",
            " \n",
            " \n",
            "Procedures to Late Payment Policy (FM1) \n",
            " \n",
            "1 \n",
            "July 2002 version \n",
            " \n",
            " PROCEDURES ASSOCIATED WITH THE  \n",
            "LATE PAYMENT POLICY \n",
            " \n",
            " \n",
            "Pursuant to the Regulatory Framework Policy, the President may approve Procedures or the amendment \n",
            "or  repeal  of  Procedures.  Such  approvals  must  be  reported  at  the  next  meeting  of  the  UBC  Board  of \n",
            "Governors or as soon thereafter as practicable. \n",
            " \n",
            "Capitalized terms used in these Procedures that are not otherwise defined herein shall have the meanings \n",
            "given to such terms in the accompanying Policy, being the Late Payment Policy. \n",
            " \n",
            "1. General \n",
            " \n",
            "1.1 \n",
            "Where  fees,  fines,  or  other  indebtedness  to  the  University  are  incurred  and  remain \n",
            "outstanding, the administrative unit in which the outstanding obligation was incurred shall \n",
            "take reasonable steps to notify the individual concerned before taking any further steps. Such \n",
            "notification shall state the late fees or interest charges, if any, which apply to the outstanding \n",
            "obligation, as well as the potential consequences of non‐payment. \n",
            " \n",
            "1.2 \n",
            "Where  the  outstanding  obligation  remains  unpaid  despite  the  foregoing  attempts  at \n",
            "notification, the administrative unit may decline to provide further services to the individual \n",
            "concerned. Without limiting the generality of the foregoing: \n",
            " \n",
            "1.2.1 \n",
            "the Department of Housing and Conferences may refuse admission to residences and \n",
            "may withdraw residence privileges, including dining privileges, requiring a resident to \n",
            "vacate the premises; \n",
            " \n",
            "1.2.2 \n",
            "Parking and Access Control Services may withdraw parking privileges and may tow \n",
            "vehicles; and \n",
            " \n",
            "1.2.3 \n",
            "the  Library  may  withdraw  borrowing  privileges  and  access  to  its  collection  of \n",
            "electronic information resources. \n",
            " \n",
            "1.3 \n",
            "Where the outstanding obligation was incurred by a student, the administrative unit may also \n",
            "forward all information relating to the outstanding obligation to Enrolment Services. Where \n",
            "an administrative unit chooses to do so, it must first have established protocols in cooperation \n",
            "with Enrolment Services so as to ensure that if the administrative unit receives payment of \n",
            "the  outstanding  obligation,  Enrolment  Services  is  notified  on  a  real‐time  basis.  Where \n",
            "outstanding obligations are referred to Enrolment Services, Enrolment Services may add an \n",
            "administrative fee to the outstanding obligation. \n",
            " \n",
            " \n",
            " \n",
            " \n",
            "Procedures to Late Payment Policy (FM1) \n",
            " \n",
            "2 \n",
            "July 2002 version \n",
            "1.4 \n",
            "If an administrative unit forwards information to Enrolment Services as contemplated by the \n",
            "preceding paragraph, the administrative unit must at the same time also take reasonable \n",
            "steps to notify the student that until the obligation is paid in full, Enrolment Services will not: \n",
            " \n",
            "1.4.1 \n",
            "process an application for admission as a student; \n",
            " \n",
            "1.4.2 \n",
            "allow subsequent registration; or \n",
            " \n",
            "1.4.3 \n",
            "provide academic transcripts or otherwise make grade information available. \n",
            " \n",
            "\n"
          ]
        }
      ],
      "source": [
        "file_path='/Users/lexi/Downloads/Late-Payment-Policy_FM1.txt'\n",
        "def read_text_file(file_path):\n",
        "    with open(file_path, 'r') as file:\n",
        "        text_content = file.read()\n",
        "    return text_content\n",
        "text = read_text_file(file_path)\n",
        "print(text)"
      ]
    },
    {
      "cell_type": "code",
      "execution_count": 10,
      "id": "f03f47af-a20b-4122-a114-74b9748ff543",
      "metadata": {
        "colab": {
          "base_uri": "https://localhost:8080/"
        },
        "id": "f03f47af-a20b-4122-a114-74b9748ff543",
        "outputId": "224dcb72-3472-495f-eac1-5e98946f309d"
      },
      "outputs": [
        {
          "data": {
            "text/plain": [
              "4765"
            ]
          },
          "execution_count": 10,
          "metadata": {},
          "output_type": "execute_result"
        }
      ],
      "source": [
        "len(text)"
      ]
    },
    {
      "cell_type": "markdown",
      "id": "aad1aa61-9e1c-46c8-ae5e-61855df440f9",
      "metadata": {
        "id": "aad1aa61-9e1c-46c8-ae5e-61855df440f9"
      },
      "source": [
        "## Split document into chunks\n",
        "\n",
        "In a RAG system, it is crucial to split the document into smaller chunks so that it’s more effective to identify and retrieve the most relevant information in the retrieval process later. In this example, we simply split our text by character, combine 4765 characters into each chunk, and we get 10 chunks."
      ]
    },
    {
      "cell_type": "code",
      "execution_count": 11,
      "id": "8494655e-bd87-49de-8f1d-69ffbc1c256e",
      "metadata": {
        "id": "8494655e-bd87-49de-8f1d-69ffbc1c256e"
      },
      "outputs": [],
      "source": [
        "chunk_size = 512\n",
        "chunks = [text[i:i + chunk_size] for i in range(0, len(text), chunk_size)]"
      ]
    },
    {
      "cell_type": "code",
      "execution_count": 12,
      "id": "c78c9936-0c1d-471c-b030-6c45639e7238",
      "metadata": {
        "colab": {
          "base_uri": "https://localhost:8080/"
        },
        "id": "c78c9936-0c1d-471c-b030-6c45639e7238",
        "outputId": "31e7f256-68e6-4c0c-9a24-8da88d36276e"
      },
      "outputs": [
        {
          "data": {
            "text/plain": [
              "10"
            ]
          },
          "execution_count": 12,
          "metadata": {},
          "output_type": "execute_result"
        }
      ],
      "source": [
        "len(chunks)"
      ]
    },
    {
      "cell_type": "markdown",
      "id": "4176cbe3-9b15-4d17-afb1-665011d09bb7",
      "metadata": {
        "id": "4176cbe3-9b15-4d17-afb1-665011d09bb7"
      },
      "source": [
        "#### Considerations:\n",
        "- **Chunk size**: Depending on your specific use case, it may be necessary to customize or experiment with different chunk sizes and chunk overlap to achieve optimal performance in RAG. For example, smaller chunks can be more beneficial in retrieval processes, as larger text chunks often contain filler text that can obscure the semantic representation. As such, using smaller text chunks in the retrieval process can enable the RAG system to identify and extract relevant information more effectively and accurately.  However, it’s worth considering the trade-offs that come with using smaller chunks, such as increasing processing time and computational resources.\n",
        "- **How to split**: While the simplest method is to split the text by character, there are other options depending on the use case and document structure. For example, to avoid exceeding token limits in API calls, it may be necessary to split the text by tokens. To maintain the cohesiveness of the chunks, it can be useful to split the text by sentences, paragraphs, or HTML headers. If working with code, it’s often recommended to split by meaningful code chunks for example using an Abstract Syntax Tree (AST) parser.\n",
        "\n",
        "\n",
        "### Create embeddings for each text chunk\n",
        "For each text chunk, we then need to create text embeddings, which are numeric representations of the text in the vector space. Words with similar meanings are expected to be in closer proximity or have a shorter distance in the vector space.\n",
        "To create an embedding, use Mistral’s embeddings API endpoint and the embedding model `mistral-embed`. We create a `get_text_embedding` to get the embedding from a single text chunk and then we use list comprehension to get text embeddings for all text chunks.\n"
      ]
    },
    {
      "cell_type": "code",
      "execution_count": 13,
      "id": "e77d9805-7a53-4210-9f80-f4de52285588",
      "metadata": {
        "id": "e77d9805-7a53-4210-9f80-f4de52285588"
      },
      "outputs": [],
      "source": [
        "def get_text_embedding(input):\n",
        "    embeddings_batch_response = client.embeddings(\n",
        "          model=\"mistral-embed\",\n",
        "          input=input\n",
        "      )\n",
        "    return embeddings_batch_response.data[0].embedding"
      ]
    },
    {
      "cell_type": "code",
      "execution_count": 14,
      "id": "46503830-6ad5-493e-a629-152721e2d88e",
      "metadata": {
        "id": "46503830-6ad5-493e-a629-152721e2d88e"
      },
      "outputs": [],
      "source": [
        "text_embeddings = np.array([get_text_embedding(chunk) for chunk in chunks])"
      ]
    },
    {
      "cell_type": "code",
      "execution_count": 15,
      "id": "ca875993-fe6d-42df-811e-a43891cd0350",
      "metadata": {
        "colab": {
          "base_uri": "https://localhost:8080/"
        },
        "id": "ca875993-fe6d-42df-811e-a43891cd0350",
        "outputId": "f4ea0eed-e595-431e-e034-dd0cea56f46e"
      },
      "outputs": [
        {
          "data": {
            "text/plain": [
              "(10, 1024)"
            ]
          },
          "execution_count": 15,
          "metadata": {},
          "output_type": "execute_result"
        }
      ],
      "source": [
        "text_embeddings.shape"
      ]
    },
    {
      "cell_type": "code",
      "execution_count": 16,
      "id": "55396758-c3f3-45b3-b6e7-d4912c0899f2",
      "metadata": {
        "colab": {
          "base_uri": "https://localhost:8080/"
        },
        "id": "55396758-c3f3-45b3-b6e7-d4912c0899f2",
        "outputId": "3f93e48e-5280-4e7e-f720-ca153f6f8f6a"
      },
      "outputs": [
        {
          "data": {
            "text/plain": [
              "array([[-0.05279541,  0.0425415 ,  0.03515625, ..., -0.01850891,\n",
              "        -0.01600647, -0.01660156],\n",
              "       [-0.02555847,  0.04238892,  0.0335083 , ...,  0.00045657,\n",
              "        -0.01304626, -0.03089905],\n",
              "       [-0.00518799,  0.04684448,  0.0252533 , ..., -0.00501251,\n",
              "        -0.00649643, -0.03262329],\n",
              "       ...,\n",
              "       [-0.04434204,  0.03909302,  0.02493286, ...,  0.00706863,\n",
              "        -0.00595093, -0.0243988 ],\n",
              "       [-0.04748535,  0.04962158,  0.02813721, ...,  0.00458908,\n",
              "        -0.00642776, -0.02920532],\n",
              "       [-0.01670837,  0.03120422,  0.03117371, ...,  0.00309753,\n",
              "        -0.00422668, -0.03001404]])"
            ]
          },
          "execution_count": 16,
          "metadata": {},
          "output_type": "execute_result"
        }
      ],
      "source": [
        "text_embeddings"
      ]
    },
    {
      "cell_type": "markdown",
      "id": "1cba33c7-9d1d-44d8-a01e-e30f16be1aac",
      "metadata": {
        "id": "1cba33c7-9d1d-44d8-a01e-e30f16be1aac"
      },
      "source": [
        "### Load into a vector database\n",
        "Once we get the text embeddings, a common practice is to store them in a vector database for efficient processing and retrieval. There are several vector database to choose from. In our simple example, we are using an open-source vector database Faiss, which allows for efficient similarity search.  \n",
        "\n",
        "With Faiss, we instantiate an instance of the Index class, which defines the indexing structure of the vector database. We then add the text embeddings to this indexing structure.\n"
      ]
    },
    {
      "cell_type": "code",
      "execution_count": 17,
      "id": "6a5b1877-b113-4527-9055-cae9049fef08",
      "metadata": {
        "id": "6a5b1877-b113-4527-9055-cae9049fef08"
      },
      "outputs": [],
      "source": [
        "d = text_embeddings.shape[1]\n",
        "index = faiss.IndexFlatL2(d)\n",
        "index.add(text_embeddings)"
      ]
    },
    {
      "cell_type": "markdown",
      "id": "5ee023ab-b26c-4df5-8a7b-7dd660bfad86",
      "metadata": {
        "id": "5ee023ab-b26c-4df5-8a7b-7dd660bfad86"
      },
      "source": [
        "#### Considerations:\n",
        "- **Vector database**: When selecting a vector database, there are several factors to consider including speed, scalability, cloud management, advanced filtering, and open-source vs. closed-source.\n",
        "\n",
        "### Create embeddings for a question\n",
        "Whenever users ask a question, we also need to create embeddings for this question using the same embedding models as before.\n"
      ]
    },
    {
      "cell_type": "code",
      "execution_count": 18,
      "id": "894d9764-9da9-4629-8f2a-c9dcaf6ceb8d",
      "metadata": {
        "colab": {
          "base_uri": "https://localhost:8080/"
        },
        "id": "894d9764-9da9-4629-8f2a-c9dcaf6ceb8d",
        "outputId": "56a00dc8-86f2-47b5-cbeb-6b9a4bb249ea"
      },
      "outputs": [
        {
          "data": {
            "text/plain": [
              "(1, 1024)"
            ]
          },
          "execution_count": 18,
          "metadata": {},
          "output_type": "execute_result"
        }
      ],
      "source": [
        "question = \"What may the University charge when fees, fines, or other indebtedness remain unpaid?\"\n",
        "question_embeddings = np.array([get_text_embedding(question)])\n",
        "question_embeddings.shape"
      ]
    },
    {
      "cell_type": "code",
      "execution_count": 19,
      "id": "9c4948cc-6d8b-449f-bc00-abb3591c7222",
      "metadata": {
        "colab": {
          "base_uri": "https://localhost:8080/"
        },
        "id": "9c4948cc-6d8b-449f-bc00-abb3591c7222",
        "outputId": "82b5c46e-dc95-42e3-fbc5-e4e5a735f97a"
      },
      "outputs": [
        {
          "data": {
            "text/plain": [
              "array([[-0.02053833,  0.0625    ,  0.04031372, ..., -0.01794434,\n",
              "        -0.00689316, -0.00888824]])"
            ]
          },
          "execution_count": 19,
          "metadata": {},
          "output_type": "execute_result"
        }
      ],
      "source": [
        "question_embeddings"
      ]
    },
    {
      "cell_type": "markdown",
      "id": "15989e10-d0ec-41be-b6be-fa317565a926",
      "metadata": {
        "id": "15989e10-d0ec-41be-b6be-fa317565a926"
      },
      "source": [
        "#### Considerations:\n",
        "- Hypothetical Document Embeddings (HyDE): In some cases, the user’s question might not be the most relevant query to use for identifying the relevant context. Instead, it maybe more effective to generate a hypothetical answer or a hypothetical document based on the user’s query and use the embeddings of the generated text to retrieve similar text chunks.\n",
        "\n",
        "### Retrieve similar chunks from the vector database\n",
        "We can perform a search on the vector database with `index.search`, which takes two arguments: the first is the vector of the question embeddings, and the second is the number of similar vectors to retrieve. This function returns the distances and the indices of the most similar vectors to the question vector in the vector database. Then based on the returned indices, we can retrieve the actual relevant text chunks that correspond to those indices.\n"
      ]
    },
    {
      "cell_type": "code",
      "execution_count": 20,
      "id": "c930b378-7aac-434c-881b-ab69d3edb93d",
      "metadata": {
        "colab": {
          "base_uri": "https://localhost:8080/"
        },
        "id": "c930b378-7aac-434c-881b-ab69d3edb93d",
        "outputId": "ee0e09a2-c744-47d1-92ee-6b84f304973c"
      },
      "outputs": [
        {
          "name": "stdout",
          "output_type": "stream",
          "text": [
            "[[1 5]]\n"
          ]
        }
      ],
      "source": [
        "D, I = index.search(question_embeddings, k=2)\n",
        "print(I)"
      ]
    },
    {
      "cell_type": "code",
      "execution_count": 21,
      "id": "73aab584-1dbf-4532-b41e-0403eeeeb567",
      "metadata": {
        "colab": {
          "base_uri": "https://localhost:8080/"
        },
        "id": "73aab584-1dbf-4532-b41e-0403eeeeb567",
        "outputId": "9a5cc344-d084-492b-b5b5-d06ddc03157e"
      },
      "outputs": [
        {
          "name": "stdout",
          "output_type": "stream",
          "text": [
            "['\\xa0legal\\xa0action,\\xa0\\nor\\xa0utilize\\xa0any\\xa0other\\xa0remedies\\xa0that\\xa0may\\xa0be\\xa0available\\xa0to\\xa0it,\\xa0whether\\xa0the\\xa0outstanding\\xa0obligation\\xa0\\nis\\xa0owed\\xa0by\\xa0a\\xa0faculty\\xa0member,\\xa0staff\\xa0member,\\xa0student,\\xa0or\\xa0other\\xa0individual.\\xa0\\n\\xa0\\n1.2 \\nA\\xa0late\\xa0payment\\xa0fee\\xa0and\\xa0interest\\xa0may\\xa0be\\xa0charged.\\xa0\\n\\xa0\\n1.3 \\nIn\\xa0cases\\xa0where\\xa0the\\xa0outstanding\\xa0obligation\\xa0is\\xa0owed\\xa0by\\xa0a\\xa0student,\\xa0the\\xa0University\\xa0will\\xa0attempt\\xa0to\\xa0\\nsecure\\xa0payment\\xa0using\\xa0internal\\xa0processes\\xa0prior\\xa0to\\xa0commencing\\xa0any\\xa0legal\\xa0action.\\xa0Provided\\xa0that\\xa0\\nthe\\xa0 University\\xa0 has\\xa0 first\\xa0 taken\\xa0 reasonable\\xa0 steps\\xa0 to\\xa0 notify\\xa0 the\\xa0 ind', '\\xa0unit\\xa0in\\xa0which\\xa0the\\xa0outstanding\\xa0obligation\\xa0was\\xa0incurred\\xa0shall\\xa0\\ntake\\xa0reasonable\\xa0steps\\xa0to\\xa0notify\\xa0the\\xa0individual\\xa0concerned\\xa0before\\xa0taking\\xa0any\\xa0further\\xa0steps.\\xa0Such\\xa0\\nnotification\\xa0shall\\xa0state\\xa0the\\xa0late\\xa0fees\\xa0or\\xa0interest\\xa0charges,\\xa0if\\xa0any,\\xa0which\\xa0apply\\xa0to\\xa0the\\xa0outstanding\\xa0\\nobligation,\\xa0as\\xa0well\\xa0as\\xa0the\\xa0potential\\xa0consequences\\xa0of\\xa0non‐payment.\\xa0\\n\\xa0\\n1.2 \\nWhere\\xa0 the\\xa0 outstanding\\xa0 obligation\\xa0 remains\\xa0 unpaid\\xa0 despite\\xa0 the\\xa0 foregoing\\xa0 attempts\\xa0 at\\xa0\\nnotification,\\xa0the\\xa0administrative\\xa0unit\\xa0may\\xa0decline\\xa0to\\xa0provide\\xa0further\\xa0services\\xa0to\\xa0the\\xa0in']\n"
          ]
        }
      ],
      "source": [
        "retrieved_chunk = [chunks[i] for i in I.tolist()[0]]\n",
        "print(retrieved_chunk)"
      ]
    },
    {
      "cell_type": "markdown",
      "id": "4b417a59-021a-411d-a491-cb31815192cd",
      "metadata": {
        "id": "4b417a59-021a-411d-a491-cb31815192cd"
      },
      "source": [
        "#### Considerations:\n",
        "- **Retrieval methods**: There are a lot different retrieval strategies. In our example, we are showing a simple similarity search with embeddings. Sometimes when there is metadata available for the data, it’s better to filter the data based on the metadata first before performing similarity search. There are also other statistical retrieval methods like TF-IDF and BM25 that use frequency and distribution of terms in the document to identify relevant text chunks.\n",
        "- **Retrieved document**: Do we always retrieve individual text chunk as it is? Not always.\n",
        "    - Sometimes, we would like to include more context around the actual retrieved text chunk. We call the actual retrieve text chunk “child chunk” and our goal is to retrieve a larger “parent chunk” that the “child chunk” belongs to.\n",
        "    - On occasion, we might also want to provide weights to our retrieve documents. For example, a time-weighted approach would help us retrieve the most recent document.\n",
        "    - One common issue in the retrieval process is the “lost in the middle” problem where the information in the middle of a long context gets lost. Our models have tried to mitigate this issue. For example, in the passkey task, our models have demonstrated the ability to find a \"needle in a haystack\" by retrieving a randomly inserted passkey within a long prompt, up to 32k context length. However, it is worth considering experimenting with reordering the document to determine if placing the most relevant chunks at the beginning and end leads to improved results.\n",
        "  \n",
        "### Combine context and question in a prompt and generate response\n",
        "\n",
        "Finally, we can offer the retrieved text chunks as the context information within the prompt. Here is a prompt template where we can include both the retrieved text and user question in the prompt.\n",
        "\n"
      ]
    },
    {
      "cell_type": "code",
      "execution_count": 23,
      "id": "da042a53-4564-4057-9a60-9b57dffff6a1",
      "metadata": {
        "id": "da042a53-4564-4057-9a60-9b57dffff6a1"
      },
      "outputs": [],
      "source": [
        "prompt = f\"\"\"\n",
        "Context information is below.\n",
        "---------------------\n",
        "{retrieved_chunk}\n",
        "---------------------\n",
        "Given the context information and not prior knowledge, answer the query.\n",
        "Query: {question}\n",
        "Answer:\n",
        "\"\"\""
      ]
    },
    {
      "cell_type": "code",
      "execution_count": 24,
      "id": "e77d975b-5f69-4e9c-8b94-97214517eac7",
      "metadata": {
        "id": "e77d975b-5f69-4e9c-8b94-97214517eac7"
      },
      "outputs": [],
      "source": [
        "def run_mistral(user_message, model=\"mistral-medium-latest\"):\n",
        "    messages = [\n",
        "        ChatMessage(role=\"user\", content=user_message)\n",
        "    ]\n",
        "    chat_response = client.chat(\n",
        "        model=model,\n",
        "        messages=messages\n",
        "    )\n",
        "    return (chat_response.choices[0].message.content)"
      ]
    },
    {
      "cell_type": "code",
      "execution_count": 25,
      "id": "1c5c20aa-6673-4105-9c10-886a1e18da8a",
      "metadata": {
        "colab": {
          "base_uri": "https://localhost:8080/",
          "height": 89
        },
        "id": "1c5c20aa-6673-4105-9c10-886a1e18da8a",
        "outputId": "e7535ef4-2cab-459a-cd81-f27bd258ba43"
      },
      "outputs": [
        {
          "data": {
            "text/plain": [
              "'When fees, fines, or other indebtedness remain unpaid, the University may charge a late payment fee and interest on the outstanding obligation. Additionally, the University may decline to provide further services to the individual in question until the obligation is paid. In cases where the obligation is owed by a student, the University will first attempt to secure payment using internal processes prior to commencing any legal action. The administrative unit responsible for the outstanding obligation will take reasonable steps to notify the individual concerned of the late fees or interest charges and the potential consequences of non-payment before taking any further steps. The University may also utilize legal action or other remedies available to it to collect the outstanding obligation.'"
            ]
          },
          "execution_count": 25,
          "metadata": {},
          "output_type": "execute_result"
        }
      ],
      "source": [
        "run_mistral(prompt)"
      ]
    },
    {
      "cell_type": "markdown",
      "id": "4e3b531c-4730-4108-ae8a-8de6563e085b",
      "metadata": {
        "id": "4e3b531c-4730-4108-ae8a-8de6563e085b"
      },
      "source": [
        "#### Considerations:\n",
        "- Prompting techniques: Most of the prompting techniques can be used in developing a RAG system as well. For example, we can use few-shot learning to guide the model’s answers by providing a few examples. Additionally, we can explicitly instruct the model to format answers in a certain way.\n",
        "\n",
        "\n",
        "In the next sections, we are going to show you how to do a similar basic RAG with some of the popular RAG frameworks. We will start with LlamaIndex and add other frameworks in the future.\n"
      ]
    },
    {
      "cell_type": "markdown",
      "id": "48f538ee-c561-43a6-a421-a0e7b35638f7",
      "metadata": {
        "id": "48f538ee-c561-43a6-a421-a0e7b35638f7"
      },
      "source": [
        "## LlamaIndex"
      ]
    },
    {
      "cell_type": "code",
      "execution_count": 5,
      "id": "152c2a1e-9564-459c-9ea9-5208da519a90",
      "metadata": {
        "colab": {
          "base_uri": "https://localhost:8080/"
        },
        "collapsed": true,
        "id": "152c2a1e-9564-459c-9ea9-5208da519a90",
        "outputId": "ec6f0e6f-598f-4ccb-da91-ec320b1af118",
        "scrolled": true
      },
      "outputs": [
        {
          "name": "stdout",
          "output_type": "stream",
          "text": [
            "Collecting llama-index\n",
            "  Using cached llama_index-0.10.46-py3-none-any.whl.metadata (11 kB)\n",
            "Collecting llama-index-llms-mistralai\n",
            "  Using cached llama_index_llms_mistralai-0.1.16-py3-none-any.whl.metadata (679 bytes)\n",
            "Collecting llama-index-embeddings-mistralai\n",
            "  Using cached llama_index_embeddings_mistralai-0.1.4-py3-none-any.whl.metadata (645 bytes)\n",
            "Collecting llama-index-agent-openai<0.3.0,>=0.1.4 (from llama-index)\n",
            "  Using cached llama_index_agent_openai-0.2.7-py3-none-any.whl.metadata (678 bytes)\n",
            "Collecting llama-index-cli<0.2.0,>=0.1.2 (from llama-index)\n",
            "  Using cached llama_index_cli-0.1.12-py3-none-any.whl.metadata (1.5 kB)\n",
            "Collecting llama-index-core==0.10.46 (from llama-index)\n",
            "  Using cached llama_index_core-0.10.46-py3-none-any.whl.metadata (2.5 kB)\n",
            "Collecting llama-index-embeddings-openai<0.2.0,>=0.1.5 (from llama-index)\n",
            "  Using cached llama_index_embeddings_openai-0.1.10-py3-none-any.whl.metadata (604 bytes)\n",
            "Collecting llama-index-indices-managed-llama-cloud<0.2.0,>=0.1.2 (from llama-index)\n",
            "  Using cached llama_index_indices_managed_llama_cloud-0.1.6-py3-none-any.whl.metadata (3.8 kB)\n",
            "Collecting llama-index-legacy<0.10.0,>=0.9.48 (from llama-index)\n",
            "  Using cached llama_index_legacy-0.9.48-py3-none-any.whl.metadata (8.5 kB)\n",
            "Collecting llama-index-llms-openai<0.2.0,>=0.1.13 (from llama-index)\n",
            "  Using cached llama_index_llms_openai-0.1.22-py3-none-any.whl.metadata (559 bytes)\n",
            "Collecting llama-index-multi-modal-llms-openai<0.2.0,>=0.1.3 (from llama-index)\n",
            "  Using cached llama_index_multi_modal_llms_openai-0.1.6-py3-none-any.whl.metadata (677 bytes)\n",
            "Collecting llama-index-program-openai<0.2.0,>=0.1.3 (from llama-index)\n",
            "  Using cached llama_index_program_openai-0.1.6-py3-none-any.whl.metadata (715 bytes)\n",
            "Collecting llama-index-question-gen-openai<0.2.0,>=0.1.2 (from llama-index)\n",
            "  Using cached llama_index_question_gen_openai-0.1.3-py3-none-any.whl.metadata (785 bytes)\n",
            "Collecting llama-index-readers-file<0.2.0,>=0.1.4 (from llama-index)\n",
            "  Using cached llama_index_readers_file-0.1.25-py3-none-any.whl.metadata (5.4 kB)\n",
            "Collecting llama-index-readers-llama-parse<0.2.0,>=0.1.2 (from llama-index)\n",
            "  Using cached llama_index_readers_llama_parse-0.1.4-py3-none-any.whl.metadata (3.5 kB)\n",
            "Requirement already satisfied: PyYAML>=6.0.1 in /Library/Frameworks/Python.framework/Versions/3.12/lib/python3.12/site-packages (from llama-index-core==0.10.46->llama-index) (6.0.1)\n",
            "Requirement already satisfied: SQLAlchemy>=1.4.49 in /Library/Frameworks/Python.framework/Versions/3.12/lib/python3.12/site-packages (from SQLAlchemy[asyncio]>=1.4.49->llama-index-core==0.10.46->llama-index) (2.0.30)\n",
            "Requirement already satisfied: aiohttp<4.0.0,>=3.8.6 in /Library/Frameworks/Python.framework/Versions/3.12/lib/python3.12/site-packages (from llama-index-core==0.10.46->llama-index) (3.9.5)\n",
            "Requirement already satisfied: dataclasses-json in /Library/Frameworks/Python.framework/Versions/3.12/lib/python3.12/site-packages (from llama-index-core==0.10.46->llama-index) (0.6.7)\n",
            "Collecting deprecated>=1.2.9.3 (from llama-index-core==0.10.46->llama-index)\n",
            "  Using cached Deprecated-1.2.14-py2.py3-none-any.whl.metadata (5.4 kB)\n",
            "Collecting dirtyjson<2.0.0,>=1.0.8 (from llama-index-core==0.10.46->llama-index)\n",
            "  Using cached dirtyjson-1.0.8-py3-none-any.whl.metadata (11 kB)\n",
            "Requirement already satisfied: fsspec>=2023.5.0 in /Library/Frameworks/Python.framework/Versions/3.12/lib/python3.12/site-packages (from llama-index-core==0.10.46->llama-index) (2024.6.0)\n",
            "Collecting httpx (from llama-index-core==0.10.46->llama-index)\n",
            "  Using cached httpx-0.27.0-py3-none-any.whl.metadata (7.2 kB)\n",
            "Collecting llamaindex-py-client<0.2.0,>=0.1.18 (from llama-index-core==0.10.46->llama-index)\n",
            "  Using cached llamaindex_py_client-0.1.19-py3-none-any.whl.metadata (760 bytes)\n",
            "Requirement already satisfied: nest-asyncio<2.0.0,>=1.5.8 in /Users/lexi/Library/Python/3.12/lib/python/site-packages (from llama-index-core==0.10.46->llama-index) (1.6.0)\n",
            "Requirement already satisfied: networkx>=3.0 in /Library/Frameworks/Python.framework/Versions/3.12/lib/python3.12/site-packages (from llama-index-core==0.10.46->llama-index) (3.3)\n",
            "Collecting nltk<4.0.0,>=3.8.1 (from llama-index-core==0.10.46->llama-index)\n",
            "  Using cached nltk-3.8.1-py3-none-any.whl.metadata (2.8 kB)\n",
            "Requirement already satisfied: numpy<2.0.0 in /Library/Frameworks/Python.framework/Versions/3.12/lib/python3.12/site-packages (from llama-index-core==0.10.46->llama-index) (1.26.4)\n",
            "Collecting openai>=1.1.0 (from llama-index-core==0.10.46->llama-index)\n",
            "  Using cached openai-1.34.0-py3-none-any.whl.metadata (21 kB)\n",
            "Requirement already satisfied: pandas in /Library/Frameworks/Python.framework/Versions/3.12/lib/python3.12/site-packages (from llama-index-core==0.10.46->llama-index) (2.2.2)\n",
            "Requirement already satisfied: pillow>=9.0.0 in /Library/Frameworks/Python.framework/Versions/3.12/lib/python3.12/site-packages (from llama-index-core==0.10.46->llama-index) (10.3.0)\n",
            "Requirement already satisfied: requests>=2.31.0 in /Library/Frameworks/Python.framework/Versions/3.12/lib/python3.12/site-packages (from llama-index-core==0.10.46->llama-index) (2.32.3)\n",
            "Requirement already satisfied: tenacity<8.4.0,>=8.2.0 in /Library/Frameworks/Python.framework/Versions/3.12/lib/python3.12/site-packages (from llama-index-core==0.10.46->llama-index) (8.3.0)\n",
            "Collecting tiktoken>=0.3.3 (from llama-index-core==0.10.46->llama-index)\n",
            "  Downloading tiktoken-0.7.0-cp312-cp312-macosx_11_0_arm64.whl.metadata (6.6 kB)\n",
            "Requirement already satisfied: tqdm<5.0.0,>=4.66.1 in /Library/Frameworks/Python.framework/Versions/3.12/lib/python3.12/site-packages (from llama-index-core==0.10.46->llama-index) (4.66.4)\n",
            "Requirement already satisfied: typing-extensions>=4.5.0 in /Library/Frameworks/Python.framework/Versions/3.12/lib/python3.12/site-packages (from llama-index-core==0.10.46->llama-index) (4.12.1)\n",
            "Requirement already satisfied: typing-inspect>=0.8.0 in /Library/Frameworks/Python.framework/Versions/3.12/lib/python3.12/site-packages (from llama-index-core==0.10.46->llama-index) (0.9.0)\n",
            "Collecting wrapt (from llama-index-core==0.10.46->llama-index)\n",
            "  Downloading wrapt-1.16.0-cp312-cp312-macosx_11_0_arm64.whl.metadata (6.6 kB)\n",
            "Collecting mistralai>=0.4.0 (from llama-index-llms-mistralai)\n",
            "  Using cached mistralai-0.4.0-py3-none-any.whl.metadata (1.8 kB)\n",
            "Requirement already satisfied: beautifulsoup4<5.0.0,>=4.12.3 in /Library/Frameworks/Python.framework/Versions/3.12/lib/python3.12/site-packages (from llama-index-readers-file<0.2.0,>=0.1.4->llama-index) (4.12.3)\n",
            "Collecting pypdf<5.0.0,>=4.0.1 (from llama-index-readers-file<0.2.0,>=0.1.4->llama-index)\n",
            "  Using cached pypdf-4.2.0-py3-none-any.whl.metadata (7.4 kB)\n",
            "Collecting striprtf<0.0.27,>=0.0.26 (from llama-index-readers-file<0.2.0,>=0.1.4->llama-index)\n",
            "  Using cached striprtf-0.0.26-py3-none-any.whl.metadata (2.1 kB)\n",
            "Collecting llama-parse<0.5.0,>=0.4.0 (from llama-index-readers-llama-parse<0.2.0,>=0.1.2->llama-index)\n",
            "  Using cached llama_parse-0.4.4-py3-none-any.whl.metadata (3.5 kB)\n",
            "Collecting httpx (from llama-index-core==0.10.46->llama-index)\n",
            "  Using cached httpx-0.25.2-py3-none-any.whl.metadata (6.9 kB)\n",
            "Requirement already satisfied: orjson<3.11,>=3.9.10 in /Library/Frameworks/Python.framework/Versions/3.12/lib/python3.12/site-packages (from mistralai>=0.4.0->llama-index-llms-mistralai) (3.10.3)\n",
            "Requirement already satisfied: pydantic<3.0.0,>=2.5.2 in /Library/Frameworks/Python.framework/Versions/3.12/lib/python3.12/site-packages (from mistralai>=0.4.0->llama-index-llms-mistralai) (2.7.3)\n",
            "Requirement already satisfied: aiosignal>=1.1.2 in /Library/Frameworks/Python.framework/Versions/3.12/lib/python3.12/site-packages (from aiohttp<4.0.0,>=3.8.6->llama-index-core==0.10.46->llama-index) (1.3.1)\n",
            "Requirement already satisfied: attrs>=17.3.0 in /Library/Frameworks/Python.framework/Versions/3.12/lib/python3.12/site-packages (from aiohttp<4.0.0,>=3.8.6->llama-index-core==0.10.46->llama-index) (23.2.0)\n",
            "Requirement already satisfied: frozenlist>=1.1.1 in /Library/Frameworks/Python.framework/Versions/3.12/lib/python3.12/site-packages (from aiohttp<4.0.0,>=3.8.6->llama-index-core==0.10.46->llama-index) (1.4.1)\n",
            "Requirement already satisfied: multidict<7.0,>=4.5 in /Library/Frameworks/Python.framework/Versions/3.12/lib/python3.12/site-packages (from aiohttp<4.0.0,>=3.8.6->llama-index-core==0.10.46->llama-index) (6.0.5)\n",
            "Requirement already satisfied: yarl<2.0,>=1.0 in /Library/Frameworks/Python.framework/Versions/3.12/lib/python3.12/site-packages (from aiohttp<4.0.0,>=3.8.6->llama-index-core==0.10.46->llama-index) (1.9.4)\n",
            "Requirement already satisfied: soupsieve>1.2 in /Library/Frameworks/Python.framework/Versions/3.12/lib/python3.12/site-packages (from beautifulsoup4<5.0.0,>=4.12.3->llama-index-readers-file<0.2.0,>=0.1.4->llama-index) (2.5)\n",
            "Collecting anyio (from httpx->llama-index-core==0.10.46->llama-index)\n",
            "  Downloading anyio-4.4.0-py3-none-any.whl.metadata (4.6 kB)\n",
            "Requirement already satisfied: certifi in /Library/Frameworks/Python.framework/Versions/3.12/lib/python3.12/site-packages (from httpx->llama-index-core==0.10.46->llama-index) (2024.6.2)\n",
            "Collecting httpcore==1.* (from httpx->llama-index-core==0.10.46->llama-index)\n",
            "  Using cached httpcore-1.0.5-py3-none-any.whl.metadata (20 kB)\n",
            "Requirement already satisfied: idna in /Library/Frameworks/Python.framework/Versions/3.12/lib/python3.12/site-packages (from httpx->llama-index-core==0.10.46->llama-index) (3.7)\n",
            "Collecting sniffio (from httpx->llama-index-core==0.10.46->llama-index)\n",
            "  Downloading sniffio-1.3.1-py3-none-any.whl.metadata (3.9 kB)\n",
            "Collecting h11<0.15,>=0.13 (from httpcore==1.*->httpx->llama-index-core==0.10.46->llama-index)\n",
            "  Downloading h11-0.14.0-py3-none-any.whl.metadata (8.2 kB)\n",
            "Requirement already satisfied: click in /Library/Frameworks/Python.framework/Versions/3.12/lib/python3.12/site-packages (from nltk<4.0.0,>=3.8.1->llama-index-core==0.10.46->llama-index) (8.1.7)\n",
            "Requirement already satisfied: joblib in /Library/Frameworks/Python.framework/Versions/3.12/lib/python3.12/site-packages (from nltk<4.0.0,>=3.8.1->llama-index-core==0.10.46->llama-index) (1.4.2)\n",
            "Requirement already satisfied: regex>=2021.8.3 in /Library/Frameworks/Python.framework/Versions/3.12/lib/python3.12/site-packages (from nltk<4.0.0,>=3.8.1->llama-index-core==0.10.46->llama-index) (2024.5.15)\n",
            "Collecting distro<2,>=1.7.0 (from openai>=1.1.0->llama-index-core==0.10.46->llama-index)\n",
            "  Using cached distro-1.9.0-py3-none-any.whl.metadata (6.8 kB)\n",
            "Requirement already satisfied: annotated-types>=0.4.0 in /Library/Frameworks/Python.framework/Versions/3.12/lib/python3.12/site-packages (from pydantic<3.0.0,>=2.5.2->mistralai>=0.4.0->llama-index-llms-mistralai) (0.7.0)\n",
            "Requirement already satisfied: pydantic-core==2.18.4 in /Library/Frameworks/Python.framework/Versions/3.12/lib/python3.12/site-packages (from pydantic<3.0.0,>=2.5.2->mistralai>=0.4.0->llama-index-llms-mistralai) (2.18.4)\n",
            "Requirement already satisfied: charset-normalizer<4,>=2 in /Library/Frameworks/Python.framework/Versions/3.12/lib/python3.12/site-packages (from requests>=2.31.0->llama-index-core==0.10.46->llama-index) (3.3.2)\n",
            "Requirement already satisfied: urllib3<3,>=1.21.1 in /Library/Frameworks/Python.framework/Versions/3.12/lib/python3.12/site-packages (from requests>=2.31.0->llama-index-core==0.10.46->llama-index) (2.2.1)\n",
            "Collecting greenlet!=0.4.17 (from SQLAlchemy[asyncio]>=1.4.49->llama-index-core==0.10.46->llama-index)\n",
            "  Downloading greenlet-3.0.3-cp312-cp312-macosx_11_0_universal2.whl.metadata (3.8 kB)\n",
            "Requirement already satisfied: mypy-extensions>=0.3.0 in /Library/Frameworks/Python.framework/Versions/3.12/lib/python3.12/site-packages (from typing-inspect>=0.8.0->llama-index-core==0.10.46->llama-index) (1.0.0)\n",
            "Requirement already satisfied: marshmallow<4.0.0,>=3.18.0 in /Library/Frameworks/Python.framework/Versions/3.12/lib/python3.12/site-packages (from dataclasses-json->llama-index-core==0.10.46->llama-index) (3.21.3)\n",
            "Requirement already satisfied: python-dateutil>=2.8.2 in /Library/Frameworks/Python.framework/Versions/3.12/lib/python3.12/site-packages (from pandas->llama-index-core==0.10.46->llama-index) (2.9.0.post0)\n",
            "Requirement already satisfied: pytz>=2020.1 in /Library/Frameworks/Python.framework/Versions/3.12/lib/python3.12/site-packages (from pandas->llama-index-core==0.10.46->llama-index) (2024.1)\n",
            "Requirement already satisfied: tzdata>=2022.7 in /Library/Frameworks/Python.framework/Versions/3.12/lib/python3.12/site-packages (from pandas->llama-index-core==0.10.46->llama-index) (2024.1)\n",
            "Requirement already satisfied: packaging>=17.0 in /Library/Frameworks/Python.framework/Versions/3.12/lib/python3.12/site-packages (from marshmallow<4.0.0,>=3.18.0->dataclasses-json->llama-index-core==0.10.46->llama-index) (23.2)\n",
            "Requirement already satisfied: six>=1.5 in /Library/Frameworks/Python.framework/Versions/3.12/lib/python3.12/site-packages (from python-dateutil>=2.8.2->pandas->llama-index-core==0.10.46->llama-index) (1.16.0)\n",
            "Using cached llama_index-0.10.46-py3-none-any.whl (6.8 kB)\n",
            "Using cached llama_index_core-0.10.46-py3-none-any.whl (15.4 MB)\n",
            "Using cached llama_index_llms_mistralai-0.1.16-py3-none-any.whl (5.6 kB)\n",
            "Using cached llama_index_embeddings_mistralai-0.1.4-py3-none-any.whl (2.6 kB)\n",
            "Using cached llama_index_agent_openai-0.2.7-py3-none-any.whl (12 kB)\n",
            "Using cached llama_index_cli-0.1.12-py3-none-any.whl (26 kB)\n",
            "Using cached llama_index_embeddings_openai-0.1.10-py3-none-any.whl (6.2 kB)\n",
            "Using cached llama_index_indices_managed_llama_cloud-0.1.6-py3-none-any.whl (6.7 kB)\n",
            "Using cached llama_index_legacy-0.9.48-py3-none-any.whl (2.0 MB)\n",
            "Using cached llama_index_llms_openai-0.1.22-py3-none-any.whl (11 kB)\n",
            "Using cached llama_index_multi_modal_llms_openai-0.1.6-py3-none-any.whl (5.8 kB)\n",
            "Using cached llama_index_program_openai-0.1.6-py3-none-any.whl (5.2 kB)\n",
            "Using cached llama_index_question_gen_openai-0.1.3-py3-none-any.whl (2.9 kB)\n",
            "Using cached llama_index_readers_file-0.1.25-py3-none-any.whl (37 kB)\n",
            "Using cached llama_index_readers_llama_parse-0.1.4-py3-none-any.whl (2.5 kB)\n",
            "Using cached mistralai-0.4.0-py3-none-any.whl (19 kB)\n",
            "Using cached Deprecated-1.2.14-py2.py3-none-any.whl (9.6 kB)\n",
            "Using cached dirtyjson-1.0.8-py3-none-any.whl (25 kB)\n",
            "Using cached httpx-0.25.2-py3-none-any.whl (74 kB)\n",
            "Using cached httpcore-1.0.5-py3-none-any.whl (77 kB)\n",
            "Using cached llama_parse-0.4.4-py3-none-any.whl (8.0 kB)\n",
            "Using cached llamaindex_py_client-0.1.19-py3-none-any.whl (141 kB)\n",
            "Using cached nltk-3.8.1-py3-none-any.whl (1.5 MB)\n",
            "Using cached openai-1.34.0-py3-none-any.whl (325 kB)\n",
            "Using cached pypdf-4.2.0-py3-none-any.whl (290 kB)\n",
            "Using cached striprtf-0.0.26-py3-none-any.whl (6.9 kB)\n",
            "Downloading tiktoken-0.7.0-cp312-cp312-macosx_11_0_arm64.whl (906 kB)\n",
            "\u001b[2K   \u001b[90m━━━━━━━━━━━━━━━━━━━━━━━━━━━━━━━━━━━━━━━━\u001b[0m \u001b[32m906.7/906.7 kB\u001b[0m \u001b[31m11.2 MB/s\u001b[0m eta \u001b[36m0:00:00\u001b[0m00:01\u001b[0m0:01\u001b[0m\n",
            "\u001b[?25hDownloading wrapt-1.16.0-cp312-cp312-macosx_11_0_arm64.whl (38 kB)\n",
            "Downloading anyio-4.4.0-py3-none-any.whl (86 kB)\n",
            "\u001b[2K   \u001b[90m━━━━━━━━━━━━━━━━━━━━━━━━━━━━━━━━━━━━━━━━\u001b[0m \u001b[32m86.8/86.8 kB\u001b[0m \u001b[31m5.4 MB/s\u001b[0m eta \u001b[36m0:00:00\u001b[0m\n",
            "\u001b[?25hUsing cached distro-1.9.0-py3-none-any.whl (20 kB)\n",
            "Downloading greenlet-3.0.3-cp312-cp312-macosx_11_0_universal2.whl (273 kB)\n",
            "\u001b[2K   \u001b[90m━━━━━━━━━━━━━━━━━━━━━━━━━━━━━━━━━━━━━━━━\u001b[0m \u001b[32m273.1/273.1 kB\u001b[0m \u001b[31m14.5 MB/s\u001b[0m eta \u001b[36m0:00:00\u001b[0m\n",
            "\u001b[?25hDownloading sniffio-1.3.1-py3-none-any.whl (10 kB)\n",
            "Downloading h11-0.14.0-py3-none-any.whl (58 kB)\n",
            "\u001b[2K   \u001b[90m━━━━━━━━━━━━━━━━━━━━━━━━━━━━━━━━━━━━━━━━\u001b[0m \u001b[32m58.3/58.3 kB\u001b[0m \u001b[31m7.5 MB/s\u001b[0m eta \u001b[36m0:00:00\u001b[0m\n",
            "\u001b[?25hInstalling collected packages: striprtf, dirtyjson, wrapt, sniffio, pypdf, nltk, h11, greenlet, distro, tiktoken, httpcore, deprecated, anyio, httpx, openai, mistralai, llamaindex-py-client, llama-index-legacy, llama-index-core, llama-parse, llama-index-readers-file, llama-index-llms-openai, llama-index-llms-mistralai, llama-index-indices-managed-llama-cloud, llama-index-embeddings-openai, llama-index-embeddings-mistralai, llama-index-readers-llama-parse, llama-index-multi-modal-llms-openai, llama-index-cli, llama-index-agent-openai, llama-index-program-openai, llama-index-question-gen-openai, llama-index\n",
            "Successfully installed anyio-4.4.0 deprecated-1.2.14 dirtyjson-1.0.8 distro-1.9.0 greenlet-3.0.3 h11-0.14.0 httpcore-1.0.5 httpx-0.25.2 llama-index-0.10.46 llama-index-agent-openai-0.2.7 llama-index-cli-0.1.12 llama-index-core-0.10.46 llama-index-embeddings-mistralai-0.1.4 llama-index-embeddings-openai-0.1.10 llama-index-indices-managed-llama-cloud-0.1.6 llama-index-legacy-0.9.48 llama-index-llms-mistralai-0.1.16 llama-index-llms-openai-0.1.22 llama-index-multi-modal-llms-openai-0.1.6 llama-index-program-openai-0.1.6 llama-index-question-gen-openai-0.1.3 llama-index-readers-file-0.1.25 llama-index-readers-llama-parse-0.1.4 llama-parse-0.4.4 llamaindex-py-client-0.1.19 mistralai-0.4.0 nltk-3.8.1 openai-1.34.0 pypdf-4.2.0 sniffio-1.3.1 striprtf-0.0.26 tiktoken-0.7.0 wrapt-1.16.0\n"
          ]
        }
      ],
      "source": [
        "!pip3 install llama-index llama-index-llms-mistralai llama-index-embeddings-mistralai"
      ]
    },
    {
      "cell_type": "code",
      "execution_count": 26,
      "id": "96003762-acac-4886-964b-2d6a67f6f724",
      "metadata": {
        "id": "96003762-acac-4886-964b-2d6a67f6f724"
      },
      "outputs": [],
      "source": [
        "import os\n",
        "from llama_index.core import Settings, SimpleDirectoryReader, VectorStoreIndex\n",
        "from llama_index.llms.mistralai import MistralAI\n",
        "from llama_index.embeddings.mistralai import MistralAIEmbedding\n",
        "\n",
        "# Load data\n",
        "reader = SimpleDirectoryReader(input_files=[\"Late-Payment-Policy_FM1.txt\"])\n",
        "documents = reader.load_data()\n",
        "# Define LLM and embedding model\n",
        "Settings.llm = MistralAI(model=\"open-mistral-7b\", api_key=api_key)\n",
        "Settings.embed_model = MistralAIEmbedding(model_name='mistral-embed', api_key=api_key)\n",
        "# Create vector store index\n",
        "index = VectorStoreIndex.from_documents(documents)\n"
      ]
    },
    {
      "cell_type": "code",
      "execution_count": 27,
      "id": "izhnf8UMzl_7",
      "metadata": {
        "id": "izhnf8UMzl_7"
      },
      "outputs": [],
      "source": [
        "# Create query engine\n",
        "query_engine = index.as_query_engine(similarity_top_k=2)\n",
        "response = query_engine.query(\n",
        "    \"What may the University charge when fees, fines, or other indebtedness remain unpaid?\"\n",
        ")\n",
        "\n"
      ]
    },
    {
      "cell_type": "code",
      "execution_count": 28,
      "id": "KRKAC19kzUK6",
      "metadata": {
        "colab": {
          "base_uri": "https://localhost:8080/"
        },
        "id": "KRKAC19kzUK6",
        "outputId": "2439a276-a4d5-4f14-ee1b-e000ddbd6e2a"
      },
      "outputs": [
        {
          "name": "stdout",
          "output_type": "stream",
          "text": [
            "The University may charge late fees or interest when fees, fines, or other\n",
            "indebtedness remain unpaid.\n"
          ]
        }
      ],
      "source": [
        "import textwrap\n",
        "\n",
        "def format_response(response):\n",
        "    response_text = str(response)\n",
        "    return '\\n'.join(textwrap.wrap(response_text, width=80))  # Wrap text at 80 characters\n",
        "\n",
        "formatted_response = format_response(response)\n",
        "print(formatted_response)"
      ]
    },
    {
      "cell_type": "code",
      "execution_count": 29,
      "id": "m1Tk5qfyAhLJ",
      "metadata": {
        "colab": {
          "base_uri": "https://localhost:8080/"
        },
        "id": "m1Tk5qfyAhLJ",
        "outputId": "0a29c9f2-d5ee-410b-d12a-bfbc698991b0"
      },
      "outputs": [
        {
          "name": "stdout",
          "output_type": "stream",
          "text": [
            "No, individual academic departments are not authorized to withhold grades from\n",
            "Enrolment Services for any reason, according to the Late-Payment-Policy_FM1.txt.\n",
            "This is stated in section 1.4 of the July 2019 version of the policy.\n"
          ]
        }
      ],
      "source": [
        "response2 = query_engine.query(\n",
        "    \"Are individual academic departments authorized to withhold grades from Enrolment Services for any reason?\"\n",
        ")\n",
        "\n",
        "formatted_response2 = format_response(response2)\n",
        "print(formatted_response2)"
      ]
    },
    {
      "cell_type": "code",
      "execution_count": 30,
      "id": "41oWtmRbBC7y",
      "metadata": {
        "colab": {
          "base_uri": "https://localhost:8080/"
        },
        "id": "41oWtmRbBC7y",
        "outputId": "76955d03-f358-4c47-bb78-b08715aaf75a"
      },
      "outputs": [
        {
          "name": "stdout",
          "output_type": "stream",
          "text": [
            "An administrative unit must take reasonable steps to notify the individual\n",
            "concerned before declining further services. This notification should state the\n",
            "late fees or interest charges, if any, which apply to the outstanding\n",
            "obligation, as well as the potential consequences of non-payment.\n"
          ]
        }
      ],
      "source": [
        "\n",
        "response3 = query_engine.query(\n",
        "    \"What steps must an administrative unit take before declining further services to an individual with outstanding obligations?\"\n",
        ")\n",
        "formatted_response3 = format_response(response3)\n",
        "print(formatted_response3)"
      ]
    },
    {
      "cell_type": "code",
      "execution_count": 31,
      "id": "bpQOjEd2BgxZ",
      "metadata": {
        "colab": {
          "base_uri": "https://localhost:8080/"
        },
        "id": "bpQOjEd2BgxZ",
        "outputId": "69108444-afc9-405b-8b36-9ac97bc9aca4"
      },
      "outputs": [
        {
          "name": "stdout",
          "output_type": "stream",
          "text": [
            "The Department of Housing and Conferences may refuse admission to residences and\n",
            "may withdraw residence privileges, including dining privileges, requiring a\n",
            "resident to vacate the premises.\n"
          ]
        }
      ],
      "source": [
        "\n",
        "response4 = query_engine.query(\n",
        "    \"What actions may the Department of Housing and Conferences take if a resident has outstanding obligations?\")\n",
        "formatted_response4 = format_response(response4)\n",
        "print(formatted_response4)"
      ]
    },
    {
      "cell_type": "code",
      "execution_count": 32,
      "id": "oz6g2sZnCCGi",
      "metadata": {
        "colab": {
          "base_uri": "https://localhost:8080/"
        },
        "id": "oz6g2sZnCCGi",
        "outputId": "718cab98-a433-4c66-94d9-e4446c2c2700"
      },
      "outputs": [
        {
          "name": "stdout",
          "output_type": "stream",
          "text": [
            "Parking and Access Control Services may withdraw parking privileges and may tow\n",
            "vehicles.\n"
          ]
        }
      ],
      "source": [
        "response5 = query_engine.query(\n",
        "    \"What may Parking and Access Control Services do in cases of unpaid obligations?\")\n",
        "formatted_response5 = format_response(response5)\n",
        "print(formatted_response5)"
      ]
    },
    {
      "cell_type": "code",
      "execution_count": 33,
      "id": "ERWWquOi4EDb",
      "metadata": {
        "colab": {
          "base_uri": "https://localhost:8080/"
        },
        "id": "ERWWquOi4EDb",
        "outputId": "a0d11116-fd23-4793-fbdc-375e320e8532"
      },
      "outputs": [
        {
          "name": "stdout",
          "output_type": "stream",
          "text": [
            "Requirement already satisfied: langchain_community in /Library/Frameworks/Python.framework/Versions/3.12/lib/python3.12/site-packages (0.2.5)\n",
            "Requirement already satisfied: PyYAML>=5.3 in /Library/Frameworks/Python.framework/Versions/3.12/lib/python3.12/site-packages (from langchain_community) (6.0.1)\n",
            "Requirement already satisfied: SQLAlchemy<3,>=1.4 in /Library/Frameworks/Python.framework/Versions/3.12/lib/python3.12/site-packages (from langchain_community) (2.0.30)\n",
            "Requirement already satisfied: aiohttp<4.0.0,>=3.8.3 in /Library/Frameworks/Python.framework/Versions/3.12/lib/python3.12/site-packages (from langchain_community) (3.9.5)\n",
            "Requirement already satisfied: dataclasses-json<0.7,>=0.5.7 in /Library/Frameworks/Python.framework/Versions/3.12/lib/python3.12/site-packages (from langchain_community) (0.6.7)\n",
            "Requirement already satisfied: langchain<0.3.0,>=0.2.5 in /Library/Frameworks/Python.framework/Versions/3.12/lib/python3.12/site-packages (from langchain_community) (0.2.5)\n",
            "Requirement already satisfied: langchain-core<0.3.0,>=0.2.7 in /Library/Frameworks/Python.framework/Versions/3.12/lib/python3.12/site-packages (from langchain_community) (0.2.9)\n",
            "Requirement already satisfied: langsmith<0.2.0,>=0.1.0 in /Library/Frameworks/Python.framework/Versions/3.12/lib/python3.12/site-packages (from langchain_community) (0.1.75)\n",
            "Requirement already satisfied: numpy<2.0.0,>=1.26.0 in /Library/Frameworks/Python.framework/Versions/3.12/lib/python3.12/site-packages (from langchain_community) (1.26.4)\n",
            "Requirement already satisfied: requests<3,>=2 in /Library/Frameworks/Python.framework/Versions/3.12/lib/python3.12/site-packages (from langchain_community) (2.32.3)\n",
            "Requirement already satisfied: tenacity<9.0.0,>=8.1.0 in /Library/Frameworks/Python.framework/Versions/3.12/lib/python3.12/site-packages (from langchain_community) (8.3.0)\n",
            "Requirement already satisfied: aiosignal>=1.1.2 in /Library/Frameworks/Python.framework/Versions/3.12/lib/python3.12/site-packages (from aiohttp<4.0.0,>=3.8.3->langchain_community) (1.3.1)\n",
            "Requirement already satisfied: attrs>=17.3.0 in /Library/Frameworks/Python.framework/Versions/3.12/lib/python3.12/site-packages (from aiohttp<4.0.0,>=3.8.3->langchain_community) (23.2.0)\n",
            "Requirement already satisfied: frozenlist>=1.1.1 in /Library/Frameworks/Python.framework/Versions/3.12/lib/python3.12/site-packages (from aiohttp<4.0.0,>=3.8.3->langchain_community) (1.4.1)\n",
            "Requirement already satisfied: multidict<7.0,>=4.5 in /Library/Frameworks/Python.framework/Versions/3.12/lib/python3.12/site-packages (from aiohttp<4.0.0,>=3.8.3->langchain_community) (6.0.5)\n",
            "Requirement already satisfied: yarl<2.0,>=1.0 in /Library/Frameworks/Python.framework/Versions/3.12/lib/python3.12/site-packages (from aiohttp<4.0.0,>=3.8.3->langchain_community) (1.9.4)\n",
            "Requirement already satisfied: marshmallow<4.0.0,>=3.18.0 in /Library/Frameworks/Python.framework/Versions/3.12/lib/python3.12/site-packages (from dataclasses-json<0.7,>=0.5.7->langchain_community) (3.21.3)\n",
            "Requirement already satisfied: typing-inspect<1,>=0.4.0 in /Library/Frameworks/Python.framework/Versions/3.12/lib/python3.12/site-packages (from dataclasses-json<0.7,>=0.5.7->langchain_community) (0.9.0)\n",
            "Requirement already satisfied: langchain-text-splitters<0.3.0,>=0.2.0 in /Library/Frameworks/Python.framework/Versions/3.12/lib/python3.12/site-packages (from langchain<0.3.0,>=0.2.5->langchain_community) (0.2.1)\n",
            "Requirement already satisfied: pydantic<3,>=1 in /Library/Frameworks/Python.framework/Versions/3.12/lib/python3.12/site-packages (from langchain<0.3.0,>=0.2.5->langchain_community) (2.7.3)\n",
            "Requirement already satisfied: jsonpatch<2.0,>=1.33 in /Library/Frameworks/Python.framework/Versions/3.12/lib/python3.12/site-packages (from langchain-core<0.3.0,>=0.2.7->langchain_community) (1.33)\n",
            "Requirement already satisfied: packaging<25,>=23.2 in /Library/Frameworks/Python.framework/Versions/3.12/lib/python3.12/site-packages (from langchain-core<0.3.0,>=0.2.7->langchain_community) (23.2)\n",
            "Requirement already satisfied: orjson<4.0.0,>=3.9.14 in /Library/Frameworks/Python.framework/Versions/3.12/lib/python3.12/site-packages (from langsmith<0.2.0,>=0.1.0->langchain_community) (3.10.3)\n",
            "Requirement already satisfied: charset-normalizer<4,>=2 in /Library/Frameworks/Python.framework/Versions/3.12/lib/python3.12/site-packages (from requests<3,>=2->langchain_community) (3.3.2)\n",
            "Requirement already satisfied: idna<4,>=2.5 in /Library/Frameworks/Python.framework/Versions/3.12/lib/python3.12/site-packages (from requests<3,>=2->langchain_community) (3.7)\n",
            "Requirement already satisfied: urllib3<3,>=1.21.1 in /Library/Frameworks/Python.framework/Versions/3.12/lib/python3.12/site-packages (from requests<3,>=2->langchain_community) (2.2.1)\n",
            "Requirement already satisfied: certifi>=2017.4.17 in /Library/Frameworks/Python.framework/Versions/3.12/lib/python3.12/site-packages (from requests<3,>=2->langchain_community) (2024.6.2)\n",
            "Requirement already satisfied: typing-extensions>=4.6.0 in /Library/Frameworks/Python.framework/Versions/3.12/lib/python3.12/site-packages (from SQLAlchemy<3,>=1.4->langchain_community) (4.12.1)\n",
            "Requirement already satisfied: jsonpointer>=1.9 in /Library/Frameworks/Python.framework/Versions/3.12/lib/python3.12/site-packages (from jsonpatch<2.0,>=1.33->langchain-core<0.3.0,>=0.2.7->langchain_community) (2.4)\n",
            "Requirement already satisfied: annotated-types>=0.4.0 in /Library/Frameworks/Python.framework/Versions/3.12/lib/python3.12/site-packages (from pydantic<3,>=1->langchain<0.3.0,>=0.2.5->langchain_community) (0.7.0)\n",
            "Requirement already satisfied: pydantic-core==2.18.4 in /Library/Frameworks/Python.framework/Versions/3.12/lib/python3.12/site-packages (from pydantic<3,>=1->langchain<0.3.0,>=0.2.5->langchain_community) (2.18.4)\n",
            "Requirement already satisfied: mypy-extensions>=0.3.0 in /Library/Frameworks/Python.framework/Versions/3.12/lib/python3.12/site-packages (from typing-inspect<1,>=0.4.0->dataclasses-json<0.7,>=0.5.7->langchain_community) (1.0.0)\n"
          ]
        }
      ],
      "source": [
        "!pip3 install langchain_community"
      ]
    },
    {
      "cell_type": "code",
      "execution_count": 35,
      "id": "VQSSM_dU4SHf",
      "metadata": {
        "colab": {
          "base_uri": "https://localhost:8080/"
        },
        "id": "VQSSM_dU4SHf",
        "outputId": "b01f41bb-de65-4be9-9a83-81ae2b263afe"
      },
      "outputs": [
        {
          "name": "stdout",
          "output_type": "stream",
          "text": [
            "Collecting langchain_mistralai\n",
            "  Downloading langchain_mistralai-0.1.8-py3-none-any.whl.metadata (2.2 kB)\n",
            "Requirement already satisfied: httpx<1,>=0.25.2 in /Library/Frameworks/Python.framework/Versions/3.12/lib/python3.12/site-packages (from langchain_mistralai) (0.25.2)\n",
            "Collecting httpx-sse<1,>=0.3.1 (from langchain_mistralai)\n",
            "  Downloading httpx_sse-0.4.0-py3-none-any.whl.metadata (9.0 kB)\n",
            "Requirement already satisfied: langchain-core<0.3,>=0.2.0 in /Library/Frameworks/Python.framework/Versions/3.12/lib/python3.12/site-packages (from langchain_mistralai) (0.2.9)\n",
            "Requirement already satisfied: tokenizers<1,>=0.15.1 in /Library/Frameworks/Python.framework/Versions/3.12/lib/python3.12/site-packages (from langchain_mistralai) (0.19.1)\n",
            "Requirement already satisfied: anyio in /Library/Frameworks/Python.framework/Versions/3.12/lib/python3.12/site-packages (from httpx<1,>=0.25.2->langchain_mistralai) (4.4.0)\n",
            "Requirement already satisfied: certifi in /Library/Frameworks/Python.framework/Versions/3.12/lib/python3.12/site-packages (from httpx<1,>=0.25.2->langchain_mistralai) (2024.6.2)\n",
            "Requirement already satisfied: httpcore==1.* in /Library/Frameworks/Python.framework/Versions/3.12/lib/python3.12/site-packages (from httpx<1,>=0.25.2->langchain_mistralai) (1.0.5)\n",
            "Requirement already satisfied: idna in /Library/Frameworks/Python.framework/Versions/3.12/lib/python3.12/site-packages (from httpx<1,>=0.25.2->langchain_mistralai) (3.7)\n",
            "Requirement already satisfied: sniffio in /Library/Frameworks/Python.framework/Versions/3.12/lib/python3.12/site-packages (from httpx<1,>=0.25.2->langchain_mistralai) (1.3.1)\n",
            "Requirement already satisfied: h11<0.15,>=0.13 in /Library/Frameworks/Python.framework/Versions/3.12/lib/python3.12/site-packages (from httpcore==1.*->httpx<1,>=0.25.2->langchain_mistralai) (0.14.0)\n",
            "Requirement already satisfied: PyYAML>=5.3 in /Library/Frameworks/Python.framework/Versions/3.12/lib/python3.12/site-packages (from langchain-core<0.3,>=0.2.0->langchain_mistralai) (6.0.1)\n",
            "Requirement already satisfied: jsonpatch<2.0,>=1.33 in /Library/Frameworks/Python.framework/Versions/3.12/lib/python3.12/site-packages (from langchain-core<0.3,>=0.2.0->langchain_mistralai) (1.33)\n",
            "Requirement already satisfied: langsmith<0.2.0,>=0.1.75 in /Library/Frameworks/Python.framework/Versions/3.12/lib/python3.12/site-packages (from langchain-core<0.3,>=0.2.0->langchain_mistralai) (0.1.75)\n",
            "Requirement already satisfied: packaging<25,>=23.2 in /Library/Frameworks/Python.framework/Versions/3.12/lib/python3.12/site-packages (from langchain-core<0.3,>=0.2.0->langchain_mistralai) (23.2)\n",
            "Requirement already satisfied: pydantic<3,>=1 in /Library/Frameworks/Python.framework/Versions/3.12/lib/python3.12/site-packages (from langchain-core<0.3,>=0.2.0->langchain_mistralai) (2.7.3)\n",
            "Requirement already satisfied: tenacity!=8.4.0,<9.0.0,>=8.1.0 in /Library/Frameworks/Python.framework/Versions/3.12/lib/python3.12/site-packages (from langchain-core<0.3,>=0.2.0->langchain_mistralai) (8.3.0)\n",
            "Requirement already satisfied: huggingface-hub<1.0,>=0.16.4 in /Library/Frameworks/Python.framework/Versions/3.12/lib/python3.12/site-packages (from tokenizers<1,>=0.15.1->langchain_mistralai) (0.23.2)\n",
            "Requirement already satisfied: filelock in /Library/Frameworks/Python.framework/Versions/3.12/lib/python3.12/site-packages (from huggingface-hub<1.0,>=0.16.4->tokenizers<1,>=0.15.1->langchain_mistralai) (3.14.0)\n",
            "Requirement already satisfied: fsspec>=2023.5.0 in /Library/Frameworks/Python.framework/Versions/3.12/lib/python3.12/site-packages (from huggingface-hub<1.0,>=0.16.4->tokenizers<1,>=0.15.1->langchain_mistralai) (2024.6.0)\n",
            "Requirement already satisfied: requests in /Library/Frameworks/Python.framework/Versions/3.12/lib/python3.12/site-packages (from huggingface-hub<1.0,>=0.16.4->tokenizers<1,>=0.15.1->langchain_mistralai) (2.32.3)\n",
            "Requirement already satisfied: tqdm>=4.42.1 in /Library/Frameworks/Python.framework/Versions/3.12/lib/python3.12/site-packages (from huggingface-hub<1.0,>=0.16.4->tokenizers<1,>=0.15.1->langchain_mistralai) (4.66.4)\n",
            "Requirement already satisfied: typing-extensions>=3.7.4.3 in /Library/Frameworks/Python.framework/Versions/3.12/lib/python3.12/site-packages (from huggingface-hub<1.0,>=0.16.4->tokenizers<1,>=0.15.1->langchain_mistralai) (4.12.1)\n",
            "Requirement already satisfied: jsonpointer>=1.9 in /Library/Frameworks/Python.framework/Versions/3.12/lib/python3.12/site-packages (from jsonpatch<2.0,>=1.33->langchain-core<0.3,>=0.2.0->langchain_mistralai) (2.4)\n",
            "Requirement already satisfied: orjson<4.0.0,>=3.9.14 in /Library/Frameworks/Python.framework/Versions/3.12/lib/python3.12/site-packages (from langsmith<0.2.0,>=0.1.75->langchain-core<0.3,>=0.2.0->langchain_mistralai) (3.10.3)\n",
            "Requirement already satisfied: annotated-types>=0.4.0 in /Library/Frameworks/Python.framework/Versions/3.12/lib/python3.12/site-packages (from pydantic<3,>=1->langchain-core<0.3,>=0.2.0->langchain_mistralai) (0.7.0)\n",
            "Requirement already satisfied: pydantic-core==2.18.4 in /Library/Frameworks/Python.framework/Versions/3.12/lib/python3.12/site-packages (from pydantic<3,>=1->langchain-core<0.3,>=0.2.0->langchain_mistralai) (2.18.4)\n",
            "Requirement already satisfied: charset-normalizer<4,>=2 in /Library/Frameworks/Python.framework/Versions/3.12/lib/python3.12/site-packages (from requests->huggingface-hub<1.0,>=0.16.4->tokenizers<1,>=0.15.1->langchain_mistralai) (3.3.2)\n",
            "Requirement already satisfied: urllib3<3,>=1.21.1 in /Library/Frameworks/Python.framework/Versions/3.12/lib/python3.12/site-packages (from requests->huggingface-hub<1.0,>=0.16.4->tokenizers<1,>=0.15.1->langchain_mistralai) (2.2.1)\n",
            "Downloading langchain_mistralai-0.1.8-py3-none-any.whl (12 kB)\n",
            "Downloading httpx_sse-0.4.0-py3-none-any.whl (7.8 kB)\n",
            "Installing collected packages: httpx-sse, langchain_mistralai\n",
            "Successfully installed httpx-sse-0.4.0 langchain_mistralai-0.1.8\n"
          ]
        }
      ],
      "source": [
        "!pip3 install langchain_mistralai"
      ]
    },
    {
      "cell_type": "code",
      "execution_count": 36,
      "id": "LlbSupJQ3jnh",
      "metadata": {
        "id": "LlbSupJQ3jnh"
      },
      "outputs": [],
      "source": [
        "from langchain_community.document_loaders import TextLoader\n",
        "from langchain_mistralai.chat_models import ChatMistralAI\n",
        "from langchain_mistralai.embeddings import MistralAIEmbeddings\n",
        "from langchain_community.vectorstores import FAISS\n",
        "from langchain.text_splitter import RecursiveCharacterTextSplitter\n",
        "from langchain.chains.combine_documents import create_stuff_documents_chain\n",
        "from langchain_core.prompts import ChatPromptTemplate\n",
        "from langchain.chains import create_retrieval_chain\n",
        "\n",
        "\n",
        "\n"
      ]
    },
    {
      "cell_type": "code",
      "execution_count": 37,
      "id": "frJquMzs4Pmh",
      "metadata": {
        "id": "frJquMzs4Pmh"
      },
      "outputs": [
        {
          "name": "stderr",
          "output_type": "stream",
          "text": [
            "/Library/Frameworks/Python.framework/Versions/3.12/lib/python3.12/site-packages/tqdm/auto.py:21: TqdmWarning: IProgress not found. Please update jupyter and ipywidgets. See https://ipywidgets.readthedocs.io/en/stable/user_install.html\n",
            "  from .autonotebook import tqdm as notebook_tqdm\n",
            "/Library/Frameworks/Python.framework/Versions/3.12/lib/python3.12/site-packages/langchain_mistralai/embeddings.py:105: UserWarning: Could not download mistral tokenizer from Huggingface for calculating batch sizes. Set a Huggingface token via the HF_TOKEN environment variable to download the real tokenizer. Falling back to a dummy tokenizer that uses `len()`.\n",
            "  warnings.warn(\n"
          ]
        }
      ],
      "source": [
        "# Load data\n",
        "loader = TextLoader(\"Late-Payment-Policy_FM1.txt\")\n",
        "docs = loader.load()\n",
        "# Split text into chunks\n",
        "text_splitter = RecursiveCharacterTextSplitter()\n",
        "documents = text_splitter.split_documents(docs)\n",
        "# Define the embedding model\n",
        "embeddings = MistralAIEmbeddings(model=\"mistral-embed\", mistral_api_key=api_key)\n",
        "# Create the vector store\n",
        "vector = FAISS.from_documents(documents, embeddings)\n",
        "# Define a retriever interface\n",
        "retriever = vector.as_retriever()"
      ]
    },
    {
      "cell_type": "code",
      "execution_count": 38,
      "id": "HdVNNFqY30Ly",
      "metadata": {
        "colab": {
          "base_uri": "https://localhost:8080/"
        },
        "id": "HdVNNFqY30Ly",
        "outputId": "5883bdaf-f995-46c6-a22b-31c98078223d"
      },
      "outputs": [
        {
          "name": "stdout",
          "output_type": "stream",
          "text": [
            "When fees, fines, or other indebtedness to the University remain unpaid, the University may charge late fees or interest, as stated in the Late Payment Policy (FM1) under section 1.5. The specific amount of these charges is not mentioned in the provided context.\n"
          ]
        }
      ],
      "source": [
        "# Define LLM\n",
        "model = ChatMistralAI(mistral_api_key=api_key)\n",
        "# Define prompt template\n",
        "prompt = ChatPromptTemplate.from_template(\"\"\"Answer the following question based only on the provided context:\n",
        "\n",
        "<context>\n",
        "{context}\n",
        "</context>\n",
        "\n",
        "Question: {input}\"\"\")\n",
        "\n",
        "# Create a retrieval chain to answer questions\n",
        "document_chain = create_stuff_documents_chain(model, prompt)\n",
        "retrieval_chain = create_retrieval_chain(retriever, document_chain)\n",
        "response = retrieval_chain.invoke({\"input\": \"What may the University charge when fees, fines, or other indebtedness remain unpaid\"})\n",
        "print(response[\"answer\"])"
      ]
    },
    {
      "cell_type": "code",
      "execution_count": 39,
      "id": "CNM5EydLBxif",
      "metadata": {
        "colab": {
          "base_uri": "https://localhost:8080/"
        },
        "id": "CNM5EydLBxif",
        "outputId": "c15e9851-eacf-45b3-bbc7-a748499fc5ee"
      },
      "outputs": [
        {
          "name": "stdout",
          "output_type": "stream",
          "text": [
            "The Department of Housing and Conferences may refuse admission to residences and may withdraw residence privileges, including dining privileges, requiring a resident to vacate the premises if the resident has outstanding obligations.\n"
          ]
        }
      ],
      "source": [
        "response2 = retrieval_chain.invoke({\"input\": \"What actions may the Department of Housing and Conferences take if a resident has outstanding obligations?\"})\n",
        "print(response2[\"answer\"])"
      ]
    },
    {
      "cell_type": "code",
      "execution_count": 40,
      "id": "SXSi_3g4CbTl",
      "metadata": {
        "colab": {
          "base_uri": "https://localhost:8080/"
        },
        "id": "SXSi_3g4CbTl",
        "outputId": "f7ea9f6a-9f72-41cc-8bcf-9bb779a64fc6"
      },
      "outputs": [
        {
          "name": "stdout",
          "output_type": "stream",
          "text": [
            "Parking and Access Control Services may withdraw parking privileges and may tow vehicles in cases of unpaid obligations.\n"
          ]
        }
      ],
      "source": [
        "response2 = retrieval_chain.invoke({\"input\": \"What may Parking and Access Control Services do in cases of unpaid obligations?\"})\n",
        "print(response2[\"answer\"])"
      ]
    }
  ],
  "metadata": {
    "colab": {
      "provenance": []
    },
    "jupytext": {
      "formats": "ipynb,py:light"
    },
    "kernelspec": {
      "display_name": "Python 3 (ipykernel)",
      "language": "python",
      "name": "python3"
    },
    "language_info": {
      "codemirror_mode": {
        "name": "ipython",
        "version": 3
      },
      "file_extension": ".py",
      "mimetype": "text/x-python",
      "name": "python",
      "nbconvert_exporter": "python",
      "pygments_lexer": "ipython3",
      "version": "3.12.3"
    }
  },
  "nbformat": 4,
  "nbformat_minor": 5
}
